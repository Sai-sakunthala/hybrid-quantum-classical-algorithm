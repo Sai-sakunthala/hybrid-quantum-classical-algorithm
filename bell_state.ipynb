{
  "nbformat": 4,
  "nbformat_minor": 0,
  "metadata": {
    "colab": {
      "provenance": [],
      "authorship_tag": "ABX9TyMpSneX5QL8nXV2fyknYJsU",
      "include_colab_link": true
    },
    "kernelspec": {
      "name": "python3",
      "display_name": "Python 3"
    },
    "language_info": {
      "name": "python"
    }
  },
  "cells": [
    {
      "cell_type": "markdown",
      "metadata": {
        "id": "view-in-github",
        "colab_type": "text"
      },
      "source": [
        "<a href=\"https://colab.research.google.com/github/Sai-sakunthala/hybrid-quantum-classical-algorithm-implementation-for-entropy-calculation/blob/main/bell_state.ipynb\" target=\"_parent\"><img src=\"https://colab.research.google.com/assets/colab-badge.svg\" alt=\"Open In Colab\"/></a>"
      ]
    },
    {
      "cell_type": "code",
      "execution_count": null,
      "metadata": {
        "colab": {
          "base_uri": "https://localhost:8080/"
        },
        "id": "t2GL8JfdATLI",
        "outputId": "9c7d28f1-19a0-4e62-fca8-91768fea76c3"
      },
      "outputs": [
        {
          "output_type": "stream",
          "name": "stdout",
          "text": [
            "\u001b[2K     \u001b[90m━━━━━━━━━━━━━━━━━━━━━━━━━━━━━━━━━━━━━━━━\u001b[0m \u001b[32m56.1/56.1 kB\u001b[0m \u001b[31m1.9 MB/s\u001b[0m eta \u001b[36m0:00:00\u001b[0m\n",
            "\u001b[2K   \u001b[90m━━━━━━━━━━━━━━━━━━━━━━━━━━━━━━━━━━━━━━━━\u001b[0m \u001b[32m2.3/2.3 MB\u001b[0m \u001b[31m13.0 MB/s\u001b[0m eta \u001b[36m0:00:00\u001b[0m\n",
            "\u001b[2K   \u001b[90m━━━━━━━━━━━━━━━━━━━━━━━━━━━━━━━━━━━━━━━━\u001b[0m \u001b[32m363.4/363.4 MB\u001b[0m \u001b[31m4.6 MB/s\u001b[0m eta \u001b[36m0:00:00\u001b[0m\n",
            "\u001b[2K   \u001b[90m━━━━━━━━━━━━━━━━━━━━━━━━━━━━━━━━━━━━━━━━\u001b[0m \u001b[32m13.8/13.8 MB\u001b[0m \u001b[31m91.2 MB/s\u001b[0m eta \u001b[36m0:00:00\u001b[0m\n",
            "\u001b[2K   \u001b[90m━━━━━━━━━━━━━━━━━━━━━━━━━━━━━━━━━━━━━━━━\u001b[0m \u001b[32m24.6/24.6 MB\u001b[0m \u001b[31m78.8 MB/s\u001b[0m eta \u001b[36m0:00:00\u001b[0m\n",
            "\u001b[2K   \u001b[90m━━━━━━━━━━━━━━━━━━━━━━━━━━━━━━━━━━━━━━━━\u001b[0m \u001b[32m883.7/883.7 kB\u001b[0m \u001b[31m34.1 MB/s\u001b[0m eta \u001b[36m0:00:00\u001b[0m\n",
            "\u001b[2K   \u001b[90m━━━━━━━━━━━━━━━━━━━━━━━━━━━━━━━━━━━━━━━━\u001b[0m \u001b[32m664.8/664.8 MB\u001b[0m \u001b[31m2.8 MB/s\u001b[0m eta \u001b[36m0:00:00\u001b[0m\n",
            "\u001b[2K   \u001b[90m━━━━━━━━━━━━━━━━━━━━━━━━━━━━━━━━━━━━━━━━\u001b[0m \u001b[32m211.5/211.5 MB\u001b[0m \u001b[31m5.4 MB/s\u001b[0m eta \u001b[36m0:00:00\u001b[0m\n",
            "\u001b[2K   \u001b[90m━━━━━━━━━━━━━━━━━━━━━━━━━━━━━━━━━━━━━━━━\u001b[0m \u001b[32m56.3/56.3 MB\u001b[0m \u001b[31m15.5 MB/s\u001b[0m eta \u001b[36m0:00:00\u001b[0m\n",
            "\u001b[2K   \u001b[90m━━━━━━━━━━━━━━━━━━━━━━━━━━━━━━━━━━━━━━━━\u001b[0m \u001b[32m127.9/127.9 MB\u001b[0m \u001b[31m8.4 MB/s\u001b[0m eta \u001b[36m0:00:00\u001b[0m\n",
            "\u001b[2K   \u001b[90m━━━━━━━━━━━━━━━━━━━━━━━━━━━━━━━━━━━━━━━━\u001b[0m \u001b[32m207.5/207.5 MB\u001b[0m \u001b[31m6.3 MB/s\u001b[0m eta \u001b[36m0:00:00\u001b[0m\n",
            "\u001b[2K   \u001b[90m━━━━━━━━━━━━━━━━━━━━━━━━━━━━━━━━━━━━━━━━\u001b[0m \u001b[32m21.1/21.1 MB\u001b[0m \u001b[31m90.2 MB/s\u001b[0m eta \u001b[36m0:00:00\u001b[0m\n",
            "\u001b[2K   \u001b[90m━━━━━━━━━━━━━━━━━━━━━━━━━━━━━━━━━━━━━━━━\u001b[0m \u001b[32m930.8/930.8 kB\u001b[0m \u001b[31m46.0 MB/s\u001b[0m eta \u001b[36m0:00:00\u001b[0m\n",
            "\u001b[2K   \u001b[90m━━━━━━━━━━━━━━━━━━━━━━━━━━━━━━━━━━━━━━━━\u001b[0m \u001b[32m2.5/2.5 MB\u001b[0m \u001b[31m68.7 MB/s\u001b[0m eta \u001b[36m0:00:00\u001b[0m\n",
            "\u001b[2K   \u001b[90m━━━━━━━━━━━━━━━━━━━━━━━━━━━━━━━━━━━━━━━━\u001b[0m \u001b[32m2.1/2.1 MB\u001b[0m \u001b[31m63.6 MB/s\u001b[0m eta \u001b[36m0:00:00\u001b[0m\n",
            "\u001b[2K   \u001b[90m━━━━━━━━━━━━━━━━━━━━━━━━━━━━━━━━━━━━━━━━\u001b[0m \u001b[32m167.9/167.9 kB\u001b[0m \u001b[31m11.1 MB/s\u001b[0m eta \u001b[36m0:00:00\u001b[0m\n",
            "\u001b[2K   \u001b[90m━━━━━━━━━━━━━━━━━━━━━━━━━━━━━━━━━━━━━━━━\u001b[0m \u001b[32m8.6/8.6 MB\u001b[0m \u001b[31m100.6 MB/s\u001b[0m eta \u001b[36m0:00:00\u001b[0m\n",
            "\u001b[?25h"
          ]
        }
      ],
      "source": [
        "!pip install pennylane torch --quiet"
      ]
    },
    {
      "cell_type": "code",
      "source": [
        "import pennylane as qml\n",
        "import torch\n",
        "import torch.nn as nn\n",
        "import torch.optim as optim\n",
        "import numpy as np\n",
        "\n",
        "# Set up device\n",
        "n_qubits = 2\n",
        "n_shots = 5000\n",
        "dev = qml.device(\"default.qubit\", wires=n_qubits, shots=n_shots)\n",
        "\n",
        "@qml.qnode(dev)\n",
        "def bell_sampler():\n",
        "    qml.Hadamard(wires=0)\n",
        "    qml.CNOT(wires=[0, 1])\n",
        "    return qml.sample(qml.PauliZ(0)), qml.sample(qml.PauliZ(1))\n",
        "\n",
        "def get_bell_samples():\n",
        "    z0, z1 = bell_sampler()\n",
        "    # Convert PauliZ outputs {-1, +1} → {1, 0}\n",
        "    z0_bin = ((1 - z0) / 2).astype(np.float32)\n",
        "    z1_bin = ((1 - z1) / 2).astype(np.float32)\n",
        "\n",
        "    # Stack into shape (n_samples, 2)\n",
        "    bitstrings = np.stack([z0_bin, z1_bin], axis=-1)\n",
        "    return torch.tensor(bitstrings, dtype=torch.float32)\n",
        "\n",
        "def get_uniform_samples(n_samples, n_bits):\n",
        "    return torch.randint(0, 2, (n_samples, n_bits)).float()"
      ],
      "metadata": {
        "id": "Rl7zgm51AWk-"
      },
      "execution_count": null,
      "outputs": []
    },
    {
      "cell_type": "code",
      "source": [
        "class EntropyNet(nn.Module):\n",
        "    def __init__(self, input_dim):\n",
        "        super().__init__()\n",
        "        self.model = nn.Sequential(\n",
        "            nn.Linear(input_dim, 32),\n",
        "            nn.ReLU(),\n",
        "            nn.Linear(32, 1)\n",
        "        )\n",
        "\n",
        "    def forward(self, x):\n",
        "        return self.model(x)\n",
        "\n",
        "def parametric_qnee_cost(model, real_samples, uniform_samples):\n",
        "    d = 2 ** real_samples.shape[1]\n",
        "    term1 = torch.mean(model(real_samples))\n",
        "    term2 = torch.mean(torch.exp(model(uniform_samples)))\n",
        "    cost = -term1 + term2\n",
        "    rel_entropy = 1 - cost\n",
        "    entropy = np.log(d) - 1 - cost\n",
        "    return cost, entropy, rel_entropy"
      ],
      "metadata": {
        "id": "AtH7cEJLBB3O"
      },
      "execution_count": null,
      "outputs": []
    },
    {
      "cell_type": "code",
      "source": [
        "device = torch.device(\"cuda\" if torch.cuda.is_available() else \"cpu\")\n",
        "model = EntropyNet(input_dim=2).to(device)\n",
        "optimizer = optim.Adam(model.parameters(), lr=0.001)\n",
        "scheduler = torch.optim.lr_scheduler.StepLR(optimizer, step_size=1000, gamma=0.5)\n",
        "\n",
        "\n",
        "for epoch in range(1001):\n",
        "    real_samples = get_bell_samples().to(device)\n",
        "    uniform_samples = get_uniform_samples(len(real_samples), 2).to(device)\n",
        "\n",
        "    loss, entropy, rel_entropy = parametric_qnee_cost(model, real_samples, uniform_samples)\n",
        "\n",
        "    optimizer.zero_grad()\n",
        "    loss.backward()\n",
        "    optimizer.step()\n",
        "\n",
        "    if epoch % 100 == 0:\n",
        "        print(f\"Epoch {epoch}: Estimated von Neumann Entropy = {entropy.item():.4f}\")\n",
        "        print(f\"Epoch {epoch}: Estimated relative entropy between bell state and maximally mixed state = {rel_entropy.item():.4f}\")\n",
        "        print('')"
      ],
      "metadata": {
        "colab": {
          "base_uri": "https://localhost:8080/"
        },
        "id": "8gSVHqibBKeR",
        "outputId": "06f5706f-85c1-461f-8c81-82c777b4449e"
      },
      "execution_count": null,
      "outputs": [
        {
          "output_type": "stream",
          "name": "stdout",
          "text": [
            "Epoch 0: Estimated von Neumann Entropy = -0.6454\n",
            "Epoch 0: Estimated relative entropy between bell state and maximally mixed state = -0.0317\n",
            "\n",
            "Epoch 100: Estimated von Neumann Entropy = -0.4844\n",
            "Epoch 100: Estimated relative entropy between bell state and maximally mixed state = 0.1293\n",
            "\n",
            "Epoch 200: Estimated von Neumann Entropy = -0.3503\n",
            "Epoch 200: Estimated relative entropy between bell state and maximally mixed state = 0.2634\n",
            "\n",
            "Epoch 300: Estimated von Neumann Entropy = -0.2293\n",
            "Epoch 300: Estimated relative entropy between bell state and maximally mixed state = 0.3844\n",
            "\n",
            "Epoch 400: Estimated von Neumann Entropy = -0.1121\n",
            "Epoch 400: Estimated relative entropy between bell state and maximally mixed state = 0.5016\n",
            "\n",
            "Epoch 500: Estimated von Neumann Entropy = -0.0347\n",
            "Epoch 500: Estimated relative entropy between bell state and maximally mixed state = 0.5790\n",
            "\n",
            "Epoch 600: Estimated von Neumann Entropy = -0.0046\n",
            "Epoch 600: Estimated relative entropy between bell state and maximally mixed state = 0.6091\n",
            "\n",
            "Epoch 700: Estimated von Neumann Entropy = 0.0143\n",
            "Epoch 700: Estimated relative entropy between bell state and maximally mixed state = 0.6281\n",
            "\n",
            "Epoch 800: Estimated von Neumann Entropy = 0.0560\n",
            "Epoch 800: Estimated relative entropy between bell state and maximally mixed state = 0.6697\n",
            "\n",
            "Epoch 900: Estimated von Neumann Entropy = 0.0531\n",
            "Epoch 900: Estimated relative entropy between bell state and maximally mixed state = 0.6668\n",
            "\n",
            "Epoch 1000: Estimated von Neumann Entropy = 0.0508\n",
            "Epoch 1000: Estimated relative entropy between bell state and maximally mixed state = 0.6645\n",
            "\n"
          ]
        }
      ]
    }
  ]
}